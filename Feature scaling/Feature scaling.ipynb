{
 "cells": [
  {
   "cell_type": "code",
   "execution_count": 6,
   "id": "a52df928-ea87-4c57-854b-c2212e7cf3ef",
   "metadata": {},
   "outputs": [],
   "source": [
    "import numpy as np\n",
    "data = np.array([[26,50000],[29,70000],[34,55000],[31,41000]])"
   ]
  },
  {
   "cell_type": "markdown",
   "id": "6dda24d1-ccd4-4c73-88fc-1d55a1b881bb",
   "metadata": {},
   "source": [
    "Noramalization"
   ]
  },
  {
   "cell_type": "code",
   "execution_count": 8,
   "id": "6f166177-08c1-4b2f-b82d-3db0666efddd",
   "metadata": {},
   "outputs": [
    {
     "data": {
      "text/plain": [
       "array([[0.        , 0.31034483],\n",
       "       [0.375     , 1.        ],\n",
       "       [1.        , 0.48275862],\n",
       "       [0.625     , 0.        ]])"
      ]
     },
     "execution_count": 8,
     "metadata": {},
     "output_type": "execute_result"
    }
   ],
   "source": [
    "from sklearn.preprocessing import MinMaxScaler\n",
    "\n",
    "scaler = MinMaxScaler()\n",
    "scaled_Data =scaler.fit_transform(data)\n",
    "scaled_Data"
   ]
  },
  {
   "cell_type": "markdown",
   "id": "1bec5f9c-9f0b-4566-8319-d6b1f8ed4158",
   "metadata": {},
   "source": [
    "Standardzation"
   ]
  },
  {
   "cell_type": "code",
   "execution_count": 10,
   "id": "e6dc04dc-f9d8-41bb-9bf4-a6463a735a51",
   "metadata": {},
   "outputs": [
    {
     "data": {
      "text/plain": [
       "array([[-1.37198868, -0.3805212 ],\n",
       "       [-0.34299717,  1.52208478],\n",
       "       [ 1.37198868,  0.0951303 ],\n",
       "       [ 0.34299717, -1.23669388]])"
      ]
     },
     "execution_count": 10,
     "metadata": {},
     "output_type": "execute_result"
    }
   ],
   "source": [
    "from sklearn.preprocessing import StandardScaler\n",
    "\n",
    "scaler = StandardScaler()\n",
    "scaled_data =scaler.fit_transform(data)\n",
    "scaled_data"
   ]
  },
  {
   "cell_type": "code",
   "execution_count": null,
   "id": "0b363802-a54b-48d9-bae6-026b9722a2f9",
   "metadata": {},
   "outputs": [],
   "source": []
  }
 ],
 "metadata": {
  "kernelspec": {
   "display_name": "Python 3 (ipykernel)",
   "language": "python",
   "name": "python3"
  },
  "language_info": {
   "codemirror_mode": {
    "name": "ipython",
    "version": 3
   },
   "file_extension": ".py",
   "mimetype": "text/x-python",
   "name": "python",
   "nbconvert_exporter": "python",
   "pygments_lexer": "ipython3",
   "version": "3.10.12"
  }
 },
 "nbformat": 4,
 "nbformat_minor": 5
}

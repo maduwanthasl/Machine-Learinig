{
 "cells": [
  {
   "cell_type": "markdown",
   "id": "72af96fb-c815-4030-b0b7-0717464d02a6",
   "metadata": {},
   "source": [
    "# Feature selection for unsupervise learning"
   ]
  },
  {
   "cell_type": "code",
   "execution_count": 32,
   "id": "7dfecba0-784b-4525-9786-2a6549af0e68",
   "metadata": {},
   "outputs": [
    {
     "name": "stdout",
     "output_type": "stream",
     "text": [
      "   Math  Chem  Maths  Physics  General_Test\n",
      "0    70    60     70       50            70\n",
      "1    60    80     60       50            70\n",
      "2    40    65     40       50            60\n",
      "3    80    55     80       50            60\n",
      "4    30    60     30       50            50\n"
     ]
    }
   ],
   "source": [
    "import pandas as pd\n",
    "\n",
    "data = pd.DataFrame({\"Math\":[70,60,40,80,30],\"Chem\":[60,80,65,55,60],\"Maths\":[70,60,40,80,30],\"Physics\":[50,50,50,50,50],\"General_Test\":[70,70,60,60,50]})\n",
    "print(data)"
   ]
  },
  {
   "cell_type": "markdown",
   "id": "caf428cc-5efe-4dff-bc19-743f879a8d53",
   "metadata": {},
   "source": [
    "## Varience\n"
   ]
  },
  {
   "cell_type": "code",
   "execution_count": 33,
   "id": "b3c1165e-fb65-4de2-a4b9-2477ce921436",
   "metadata": {},
   "outputs": [],
   "source": [
    "from sklearn.feature_selection import VarianceThreshold\n",
    "selector = VarianceThreshold(threshold=0)\n",
    "selected_features = selector.fit_transform(data)"
   ]
  },
  {
   "cell_type": "code",
   "execution_count": 34,
   "id": "cdeec950-ef41-4b90-9bd3-248128348b68",
   "metadata": {},
   "outputs": [
    {
     "data": {
      "text/plain": [
       "array([[70, 60, 70, 70],\n",
       "       [60, 80, 60, 70],\n",
       "       [40, 65, 40, 60],\n",
       "       [80, 55, 80, 60],\n",
       "       [30, 60, 30, 50]])"
      ]
     },
     "execution_count": 34,
     "metadata": {},
     "output_type": "execute_result"
    }
   ],
   "source": [
    "selected_features"
   ]
  },
  {
   "cell_type": "code",
   "execution_count": 35,
   "id": "2af0e3d5-6128-47dd-a0d3-02b3fc0d0759",
   "metadata": {},
   "outputs": [
    {
     "data": {
      "text/html": [
       "<div>\n",
       "<style scoped>\n",
       "    .dataframe tbody tr th:only-of-type {\n",
       "        vertical-align: middle;\n",
       "    }\n",
       "\n",
       "    .dataframe tbody tr th {\n",
       "        vertical-align: top;\n",
       "    }\n",
       "\n",
       "    .dataframe thead th {\n",
       "        text-align: right;\n",
       "    }\n",
       "</style>\n",
       "<table border=\"1\" class=\"dataframe\">\n",
       "  <thead>\n",
       "    <tr style=\"text-align: right;\">\n",
       "      <th></th>\n",
       "      <th>Math</th>\n",
       "      <th>Chem</th>\n",
       "      <th>Maths</th>\n",
       "      <th>General_Test</th>\n",
       "    </tr>\n",
       "  </thead>\n",
       "  <tbody>\n",
       "    <tr>\n",
       "      <th>0</th>\n",
       "      <td>70</td>\n",
       "      <td>60</td>\n",
       "      <td>70</td>\n",
       "      <td>70</td>\n",
       "    </tr>\n",
       "    <tr>\n",
       "      <th>1</th>\n",
       "      <td>60</td>\n",
       "      <td>80</td>\n",
       "      <td>60</td>\n",
       "      <td>70</td>\n",
       "    </tr>\n",
       "    <tr>\n",
       "      <th>2</th>\n",
       "      <td>40</td>\n",
       "      <td>65</td>\n",
       "      <td>40</td>\n",
       "      <td>60</td>\n",
       "    </tr>\n",
       "    <tr>\n",
       "      <th>3</th>\n",
       "      <td>80</td>\n",
       "      <td>55</td>\n",
       "      <td>80</td>\n",
       "      <td>60</td>\n",
       "    </tr>\n",
       "    <tr>\n",
       "      <th>4</th>\n",
       "      <td>30</td>\n",
       "      <td>60</td>\n",
       "      <td>30</td>\n",
       "      <td>50</td>\n",
       "    </tr>\n",
       "  </tbody>\n",
       "</table>\n",
       "</div>"
      ],
      "text/plain": [
       "   Math  Chem  Maths  General_Test\n",
       "0    70    60     70            70\n",
       "1    60    80     60            70\n",
       "2    40    65     40            60\n",
       "3    80    55     80            60\n",
       "4    30    60     30            50"
      ]
     },
     "execution_count": 35,
     "metadata": {},
     "output_type": "execute_result"
    }
   ],
   "source": [
    "data =pd.DataFrame(selected_features,columns=selector.get_feature_names_out())\n",
    "data"
   ]
  },
  {
   "cell_type": "markdown",
   "id": "30cc6233-0df9-43b9-b465-914b9efbb532",
   "metadata": {},
   "source": [
    "## Correlation"
   ]
  },
  {
   "cell_type": "code",
   "execution_count": 36,
   "id": "9ced18d7-5354-4f74-a455-46c322bf9e31",
   "metadata": {},
   "outputs": [],
   "source": [
    "import numpy as np\n",
    "import matplotlib.pyplot as plt\n",
    "import seaborn as sns"
   ]
  },
  {
   "cell_type": "code",
   "execution_count": 37,
   "id": "a8b1488f-0f20-4b5b-b47e-35085921d1bd",
   "metadata": {},
   "outputs": [
    {
     "data": {
      "text/html": [
       "<div>\n",
       "<style scoped>\n",
       "    .dataframe tbody tr th:only-of-type {\n",
       "        vertical-align: middle;\n",
       "    }\n",
       "\n",
       "    .dataframe tbody tr th {\n",
       "        vertical-align: top;\n",
       "    }\n",
       "\n",
       "    .dataframe thead th {\n",
       "        text-align: right;\n",
       "    }\n",
       "</style>\n",
       "<table border=\"1\" class=\"dataframe\">\n",
       "  <thead>\n",
       "    <tr style=\"text-align: right;\">\n",
       "      <th></th>\n",
       "      <th>Math</th>\n",
       "      <th>Chem</th>\n",
       "      <th>Maths</th>\n",
       "      <th>General_Test</th>\n",
       "    </tr>\n",
       "  </thead>\n",
       "  <tbody>\n",
       "    <tr>\n",
       "      <th>Math</th>\n",
       "      <td>1.000000</td>\n",
       "      <td>-0.150424</td>\n",
       "      <td>1.000000</td>\n",
       "      <td>0.634029</td>\n",
       "    </tr>\n",
       "    <tr>\n",
       "      <th>Chem</th>\n",
       "      <td>-0.150424</td>\n",
       "      <td>1.000000</td>\n",
       "      <td>-0.150424</td>\n",
       "      <td>0.497096</td>\n",
       "    </tr>\n",
       "    <tr>\n",
       "      <th>Maths</th>\n",
       "      <td>1.000000</td>\n",
       "      <td>-0.150424</td>\n",
       "      <td>1.000000</td>\n",
       "      <td>0.634029</td>\n",
       "    </tr>\n",
       "    <tr>\n",
       "      <th>General_Test</th>\n",
       "      <td>0.634029</td>\n",
       "      <td>0.497096</td>\n",
       "      <td>0.634029</td>\n",
       "      <td>1.000000</td>\n",
       "    </tr>\n",
       "  </tbody>\n",
       "</table>\n",
       "</div>"
      ],
      "text/plain": [
       "                  Math      Chem     Maths  General_Test\n",
       "Math          1.000000 -0.150424  1.000000      0.634029\n",
       "Chem         -0.150424  1.000000 -0.150424      0.497096\n",
       "Maths         1.000000 -0.150424  1.000000      0.634029\n",
       "General_Test  0.634029  0.497096  0.634029      1.000000"
      ]
     },
     "execution_count": 37,
     "metadata": {},
     "output_type": "execute_result"
    }
   ],
   "source": [
    "cor = data.corr()\n",
    "cor"
   ]
  },
  {
   "cell_type": "code",
   "execution_count": 38,
   "id": "52aae761-c653-42e6-9646-402b680628e3",
   "metadata": {},
   "outputs": [
    {
     "data": {
      "image/png": "[encoded data removed]",
      "text/plain": [
       "<Figure size 800x600 with 2 Axes>"
      ]
     },
     "metadata": {},
     "output_type": "display_data"
    }
   ],
   "source": [
    "plt.figure(figsize =(8,6))\n",
    "sns.heatmap(cor,annot=True,cmap='Wistia')\n",
    "plt.show()"
   ]
  },
  {
   "cell_type": "code",
   "execution_count": 39,
   "id": "10134149-05bf-4186-9b20-fd6221081f0d",
   "metadata": {},
   "outputs": [],
   "source": [
    "corr_features = set()\n",
    "for i in range(len(cor.columns)):\n",
    "    for j in range(i):\n",
    "        if abs(cor.iloc[i,j])>0.9:\n",
    "            colname = cor.columns[i]\n",
    "            corr_features.add(colname)"
   ]
  },
  {
   "cell_type": "code",
   "execution_count": 40,
   "id": "d0c72f43-d632-48d2-8552-f20004f13c57",
   "metadata": {},
   "outputs": [
    {
     "data": {
      "text/plain": [
       "{'Maths'}"
      ]
     },
     "execution_count": 40,
     "metadata": {},
     "output_type": "execute_result"
    }
   ],
   "source": [
    "corr_features"
   ]
  },
  {
   "cell_type": "code",
   "execution_count": 41,
   "id": "3e66537c-bb81-4c50-9c0a-80312b7285b1",
   "metadata": {},
   "outputs": [
    {
     "data": {
      "text/html": [
       "<div>\n",
       "<style scoped>\n",
       "    .dataframe tbody tr th:only-of-type {\n",
       "        vertical-align: middle;\n",
       "    }\n",
       "\n",
       "    .dataframe tbody tr th {\n",
       "        vertical-align: top;\n",
       "    }\n",
       "\n",
       "    .dataframe thead th {\n",
       "        text-align: right;\n",
       "    }\n",
       "</style>\n",
       "<table border=\"1\" class=\"dataframe\">\n",
       "  <thead>\n",
       "    <tr style=\"text-align: right;\">\n",
       "      <th></th>\n",
       "      <th>Math</th>\n",
       "      <th>Chem</th>\n",
       "      <th>General_Test</th>\n",
       "    </tr>\n",
       "  </thead>\n",
       "  <tbody>\n",
       "    <tr>\n",
       "      <th>0</th>\n",
       "      <td>70</td>\n",
       "      <td>60</td>\n",
       "      <td>70</td>\n",
       "    </tr>\n",
       "    <tr>\n",
       "      <th>1</th>\n",
       "      <td>60</td>\n",
       "      <td>80</td>\n",
       "      <td>70</td>\n",
       "    </tr>\n",
       "    <tr>\n",
       "      <th>2</th>\n",
       "      <td>40</td>\n",
       "      <td>65</td>\n",
       "      <td>60</td>\n",
       "    </tr>\n",
       "    <tr>\n",
       "      <th>3</th>\n",
       "      <td>80</td>\n",
       "      <td>55</td>\n",
       "      <td>60</td>\n",
       "    </tr>\n",
       "    <tr>\n",
       "      <th>4</th>\n",
       "      <td>30</td>\n",
       "      <td>60</td>\n",
       "      <td>50</td>\n",
       "    </tr>\n",
       "  </tbody>\n",
       "</table>\n",
       "</div>"
      ],
      "text/plain": [
       "   Math  Chem  General_Test\n",
       "0    70    60            70\n",
       "1    60    80            70\n",
       "2    40    65            60\n",
       "3    80    55            60\n",
       "4    30    60            50"
      ]
     },
     "execution_count": 41,
     "metadata": {},
     "output_type": "execute_result"
    }
   ],
   "source": [
    "data = data.drop(corr_features,axis =1)\n",
    "data"
   ]
  }
 ],
 "metadata": {
  "kernelspec": {
   "display_name": "Python 3 (ipykernel)",
   "language": "python",
   "name": "python3"
  },
  "language_info": {
   "codemirror_mode": {
    "name": "ipython",
    "version": 3
   },
   "file_extension": ".py",
   "mimetype": "text/x-python",
   "name": "python",
   "nbconvert_exporter": "python",
   "pygments_lexer": "ipython3",
   "version": "3.10.12"
  }
 },
 "nbformat": 4,
 "nbformat_minor": 5
}
